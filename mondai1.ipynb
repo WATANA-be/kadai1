{
  "nbformat": 4,
  "nbformat_minor": 0,
  "metadata": {
    "kernelspec": {
      "display_name": "Python 3",
      "language": "python",
      "name": "python3"
    },
    "language_info": {
      "codemirror_mode": {
        "name": "ipython",
        "version": 3
      },
      "file_extension": ".py",
      "mimetype": "text/x-python",
      "name": "python",
      "nbconvert_exporter": "python",
      "pygments_lexer": "ipython3",
      "version": "3.8.3"
    },
    "colab": {
      "name": "mondai1.ipynb",
      "provenance": []
    }
  },
  "cells": [
    {
      "cell_type": "code",
      "metadata": {
        "id": "AxLaVdRw8iC_",
        "outputId": "cb980855-6a44-414d-8085-00eee5bd5e3a"
      },
      "source": [
        "print('テストの平均値を求めます「-1」を入力して終了')\n",
        "number = 0\n",
        "tensuu = []\n",
        "\n",
        "while True:\n",
        "    s = int(input('{}個目の点数を入力…'.format(number+1)))\n",
        "    if s ==-1:\n",
        "        break\n",
        "    tensuu.append(int(s))\n",
        "    number += 1\n",
        "total = sum(tensuu)\n",
        "print('平均点は{}点です。'.format(total/number))"
      ],
      "execution_count": null,
      "outputs": [
        {
          "output_type": "stream",
          "text": [
            "テストの平均値を求めます「-1」を入力して終了\n",
            "1個目の点数を入力…40\n",
            "2個目の点数を入力…50\n",
            "3個目の点数を入力…60\n",
            "4個目の点数を入力…-1\n",
            "平均点は50.0点です。\n"
          ],
          "name": "stdout"
        }
      ]
    },
    {
      "cell_type": "code",
      "metadata": {
        "id": "L8c_PVLr8iDE"
      },
      "source": [
        ""
      ],
      "execution_count": null,
      "outputs": []
    },
    {
      "cell_type": "code",
      "metadata": {
        "id": "R9RxkVy7pl56",
        "outputId": "cb980855-6a44-414d-8085-00eee5bd5e3a"
      },
      "source": [
        "print('テストの平均値を求めます「-1」を入力して終了')\n",
        "number = 0\n",
        "tensuu = []\n",
        "\n",
        "while True:\n",
        "    s = int(input('{}個目の点数を入力…'.format(number+1)))\n",
        "    if s ==-1:\n",
        "        break\n",
        "    tensuu.append(int(s))\n",
        "    number += 1\n",
        "total = sum(tensuu)\n",
        "print('平均点は{}点です。'.format(total/number))"
      ],
      "execution_count": null,
      "outputs": [
        {
          "output_type": "stream",
          "text": [
            "テストの平均値を求めます「-1」を入力して終了\n",
            "1個目の点数を入力…40\n",
            "2個目の点数を入力…50\n",
            "3個目の点数を入力…60\n",
            "4個目の点数を入力…-1\n",
            "平均点は50.0点です。\n"
          ],
          "name": "stdout"
        }
      ]
    }
  ]
}